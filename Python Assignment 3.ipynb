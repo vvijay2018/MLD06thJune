{
 "cells": [
  {
   "cell_type": "markdown",
   "metadata": {},
   "source": [
    "# MLD 06th June Python Assignment 3"
   ]
  },
  {
   "cell_type": "code",
   "execution_count": 42,
   "metadata": {},
   "outputs": [],
   "source": [
    "#Functions to check myreduce() and myfilter() functions\n",
    "\n",
    "max_ls = lambda x,y: x if x>y else y\n",
    "l = [47,11,42,13]\n",
    "\n",
    "sum_ls = lambda x,y:x+y\n",
    "l = [47,11,42,13]\n",
    "\n",
    "def even_check(num):\n",
    "    if num%2 ==0:\n",
    "        return True\n",
    "    \n",
    "lst =[1,2,3,4,5,6,7,8]"
   ]
  },
  {
   "cell_type": "code",
   "execution_count": 43,
   "metadata": {},
   "outputs": [],
   "source": [
    "#1.1 Write a Python Program to implement your own myreduce() function which works \n",
    "#exactly like Python's built-in function reduce()\n",
    "\n",
    "def myreduce(func, l):\n",
    "    n = len(l)\n",
    "    a = l[0]\n",
    "    for i in range(1,n):\n",
    "        a = func(a,l[i])\n",
    "    return a    \n",
    "    "
   ]
  },
  {
   "cell_type": "code",
   "execution_count": 44,
   "metadata": {},
   "outputs": [
    {
     "name": "stdout",
     "output_type": "stream",
     "text": [
      "47\n",
      "113\n"
     ]
    }
   ],
   "source": [
    "print(myreduce(max_ls,l))\n",
    "print(myreduce(sum_ls,l))"
   ]
  },
  {
   "cell_type": "code",
   "execution_count": 45,
   "metadata": {},
   "outputs": [],
   "source": [
    "#1.2 Write a Python program to implement your own myfilter() function which works exactly\n",
    "#like Python's built-in function filter()\n",
    "\n",
    "def myfilter(func,l):\n",
    "    n = len(l)\n",
    "    a = []\n",
    "    for i in range(n):\n",
    "        if func(l[i]) == True:\n",
    "            a.append(l[i]) \n",
    "        else:\n",
    "            continue\n",
    "    return a"
   ]
  },
  {
   "cell_type": "code",
   "execution_count": 46,
   "metadata": {},
   "outputs": [
    {
     "name": "stdout",
     "output_type": "stream",
     "text": [
      "[2, 4, 6, 8]\n"
     ]
    }
   ],
   "source": [
    "print(myfilter(even_check,lst))"
   ]
  },
  {
   "cell_type": "code",
   "execution_count": 41,
   "metadata": {},
   "outputs": [
    {
     "name": "stdout",
     "output_type": "stream",
     "text": [
      "['x', 'xx', 'xxx', 'xxxx', 'y', 'yy', 'yyy', 'yyyy', 'z', 'zz', 'zzz', 'zzzz']\n",
      "['x', 'y', 'z', 'xx', 'yy', 'zz', 'xxx', 'yyy', 'zzz', 'xxxx', 'yyyy', 'zzzz']\n",
      "[[2], [3], [4], [3], [4], [5], [4], [5], [6]]\n",
      "[[2, 3, 4, 5], [3, 4, 5, 6], [4, 5, 6, 7], [5, 6, 7, 8]]\n",
      "[(1, 1), (2, 1), (3, 1), (1, 2), (2, 2), (3, 2), (1, 3), (2, 3), (3, 3)]\n"
     ]
    }
   ],
   "source": [
    "# 2. Implement List Comprehensions to produce the following lists:\n",
    "\n",
    "# a. ['x', 'xx', 'xxx', 'xxxx', 'y', 'yy', 'yyy', 'yyyy', 'z', 'zz', 'zzz', 'zzzz']\n",
    "\n",
    "a = [i*(j+1) for i in [\"x\",\"y\",\"z\"]  for j in range(4)]\n",
    "print(a)\n",
    "\n",
    "#b. ['x', 'y', 'z', 'xx', 'yy', 'zz', 'xxx', 'yyy', 'zzz', 'xxxx', 'yyyy', 'zzzz']\n",
    "\n",
    "b = [i*(j+1) for j in range(4) for i in [\"x\",\"y\",\"z\"]]\n",
    "print(b)\n",
    "\n",
    "#c. [[2], [3], [4], [3], [4], [5], [4], [5], [6]] \n",
    "\n",
    "c = [[j+1] for i in range(3) for j in range(i+1,i+4)]\n",
    "print(c)\n",
    "\n",
    "#d. [[2, 3, 4, 5], [3, 4, 5, 6],[4, 5, 6, 7], [5, 6, 7, 8]]\n",
    "d = [[i+j for i in range(4)] for j in range(2,6)]\n",
    "print(d)\n",
    "\n",
    "#e. [(1, 1), (2, 1), (3, 1), (1, 2), (2, 2), (3, 2), (1, 3), (2, 3), (3, 3)]\n",
    "\n",
    "e = [(j,i) for i in range(1,4) for j in range(1,4)]\n",
    "print(e)\n"
   ]
  }
 ],
 "metadata": {
  "kernelspec": {
   "display_name": "Python 3",
   "language": "python",
   "name": "python3"
  },
  "language_info": {
   "codemirror_mode": {
    "name": "ipython",
    "version": 3
   },
   "file_extension": ".py",
   "mimetype": "text/x-python",
   "name": "python",
   "nbconvert_exporter": "python",
   "pygments_lexer": "ipython3",
   "version": "3.7.6"
  }
 },
 "nbformat": 4,
 "nbformat_minor": 4
}
